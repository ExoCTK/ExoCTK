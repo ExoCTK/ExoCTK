{
 "cells": [
  {
   "cell_type": "code",
   "execution_count": 1,
   "metadata": {
    "collapsed": false
   },
   "outputs": [
    {
     "name": "stdout",
     "output_type": "stream",
     "text": [
      "The autoreload extension is already loaded. To reload it, use:\n",
      "  %reload_ext autoreload\n"
     ]
    }
   ],
   "source": [
    "%load_ext autoreload\n",
    "%autoreload 2\n",
    "%matplotlib inline"
   ]
  },
  {
   "cell_type": "markdown",
   "metadata": {},
   "source": [
    "# Calculate limb darkening coefficients"
   ]
  },
  {
   "cell_type": "markdown",
   "metadata": {},
   "source": [
    "First... some imports!"
   ]
  },
  {
   "cell_type": "code",
   "execution_count": 21,
   "metadata": {
    "collapsed": false
   },
   "outputs": [],
   "source": [
    "from ExoCTK.ExoCTK import core\n",
    "from ExoCTK.ExoCTK.limb_dark import ldcfit as lf\n",
    "from ExoCTK.ExoCTK.limb_dark import ldcplot as lp"
   ]
  },
  {
   "cell_type": "markdown",
   "metadata": {},
   "source": [
    "To calculate the limb darkening coefficients, we need a model grid. \n",
    "\n",
    "I'm going to use the Phoenix ACES models for this example but any grid can be loaded into a `core.ModelGrid()` object if the spectra are stored as FITS files.\n",
    "\n",
    "We will pass a directory or directory+wildcard path to the initialize the model grid."
   ]
  },
  {
   "cell_type": "code",
   "execution_count": 22,
   "metadata": {
    "collapsed": false
   },
   "outputs": [
    {
     "name": "stdout",
     "output_type": "stream",
     "text": [
      " Teff  logg ...                          filename                         \n",
      "------ ---- ... ----------------------------------------------------------\n",
      "2300.0  4.0 ... lte02300-4.00+0.5.PHOENIX-ACES-AGSS-COND-SPECINT-2011.fits\n",
      "2300.0  4.0 ... lte02300-4.00-0.0.PHOENIX-ACES-AGSS-COND-SPECINT-2011.fits\n",
      "2300.0  4.0 ... lte02300-4.00-0.5.PHOENIX-ACES-AGSS-COND-SPECINT-2011.fits\n",
      "2300.0  4.5 ... lte02300-4.50+0.5.PHOENIX-ACES-AGSS-COND-SPECINT-2011.fits\n",
      "2300.0  4.5 ... lte02300-4.50-0.0.PHOENIX-ACES-AGSS-COND-SPECINT-2011.fits\n",
      "2300.0  4.5 ... lte02300-4.50-0.5.PHOENIX-ACES-AGSS-COND-SPECINT-2011.fits\n",
      "2300.0  5.0 ... lte02300-5.00+0.5.PHOENIX-ACES-AGSS-COND-SPECINT-2011.fits\n",
      "2300.0  5.0 ... lte02300-5.00-0.0.PHOENIX-ACES-AGSS-COND-SPECINT-2011.fits\n",
      "2300.0  5.0 ... lte02300-5.00-0.5.PHOENIX-ACES-AGSS-COND-SPECINT-2011.fits\n",
      "2300.0  5.5 ... lte02300-5.50+0.5.PHOENIX-ACES-AGSS-COND-SPECINT-2011.fits\n",
      "   ...  ... ...                                                        ...\n",
      "2800.0  4.5 ... lte02800-4.50+0.5.PHOENIX-ACES-AGSS-COND-SPECINT-2011.fits\n",
      "2800.0  4.5 ... lte02800-4.50-0.0.PHOENIX-ACES-AGSS-COND-SPECINT-2011.fits\n",
      "2800.0  4.5 ... lte02800-4.50-0.5.PHOENIX-ACES-AGSS-COND-SPECINT-2011.fits\n",
      "2800.0  5.0 ... lte02800-5.00+0.5.PHOENIX-ACES-AGSS-COND-SPECINT-2011.fits\n",
      "2800.0  5.0 ... lte02800-5.00-0.0.PHOENIX-ACES-AGSS-COND-SPECINT-2011.fits\n",
      "2800.0  5.0 ... lte02800-5.00-0.5.PHOENIX-ACES-AGSS-COND-SPECINT-2011.fits\n",
      "2800.0  5.5 ... lte02800-5.50+0.5.PHOENIX-ACES-AGSS-COND-SPECINT-2011.fits\n",
      "2800.0  5.5 ... lte02800-5.50-0.0.PHOENIX-ACES-AGSS-COND-SPECINT-2011.fits\n",
      "2800.0  5.5 ... lte02800-5.50-0.5.PHOENIX-ACES-AGSS-COND-SPECINT-2011.fits\n",
      "2800.0  6.0 ... lte02800-6.00+0.5.PHOENIX-ACES-AGSS-COND-SPECINT-2011.fits\n",
      "2800.0  6.0 ... lte02800-6.00-0.5.PHOENIX-ACES-AGSS-COND-SPECINT-2011.fits\n",
      "Length = 89 rows\n"
     ]
    }
   ],
   "source": [
    "fits_files = '../../../limb_dark_jeff/limb/specint/lte*.PHOENIX-ACES-AGSS-COND-SPECINT-2011.fits'\n",
    "grid = core.ModelGrid(fits_files)\n",
    "print(grid.data)"
   ]
  },
  {
   "cell_type": "markdown",
   "metadata": {},
   "source": [
    "Now let's customize it to our desired effective temperature, surface gravity, metallicity, and wavelength ranges by running the `customize()` method on our grid."
   ]
  },
  {
   "cell_type": "code",
   "execution_count": 23,
   "metadata": {
    "collapsed": false
   },
   "outputs": [
    {
     "name": "stdout",
     "output_type": "stream",
     "text": [
      "12/89 spectra in parameter range Teff: (2500, 2600) , logg: (5, 5.5) , FeH: (-0.5, 0.5) , wavelength: (1.1, 1.6)\n"
     ]
    }
   ],
   "source": [
    "grid.customize(Teff_rng=(2500,2600), logg_rng=(5,5.5), FeH_rng=(-0.5,0.5), wave_rng=(1.1,1.6))"
   ]
  },
  {
   "cell_type": "markdown",
   "metadata": {},
   "source": [
    "Now we can caluclate the limb darkening coefficients. \n",
    "\n",
    "We just need to specify the desired effective temperature, surface gravity, metallicity, and the function to fit to the limb darkening profile (including 'uniform', 'linear', 'quadratic', 'square-root', 'logarithmic', 'exponential', and 'nonlinear').\n",
    "\n",
    "We can do this with for a single model on the grid..."
   ]
  },
  {
   "cell_type": "code",
   "execution_count": 24,
   "metadata": {
    "collapsed": false,
    "scrolled": true
   },
   "outputs": [
    {
     "data": {
      "image/png": "[encoded data removed]",
      "text/plain": [
       "<matplotlib.figure.Figure at 0x110b61278>"
      ]
     },
     "metadata": {},
     "output_type": "display_data"
    }
   ],
   "source": [
    "teff, logg, FeH = 2500, 5.0, 0.0\n",
    "coeffs, mu, radius = lf.ldc(teff, logg, FeH, grid, 'quadratic', plot=True)"
   ]
  },
  {
   "cell_type": "markdown",
   "metadata": {},
   "source": [
    "...or a single model off the grid..."
   ]
  },
  {
   "cell_type": "code",
   "execution_count": 25,
   "metadata": {
    "collapsed": false
   },
   "outputs": [
    {
     "name": "stdout",
     "output_type": "stream",
     "text": [
      "Teff: 2532  logg: 5.1  FeH: 0.0  model not in grid. Calculating...\n"
     ]
    },
    {
     "data": {
      "image/png": "[encoded data removed]",
      "text/plain": [
       "<matplotlib.figure.Figure at 0x11132feb8>"
      ]
     },
     "metadata": {},
     "output_type": "display_data"
    }
   ],
   "source": [
    "teff, logg, FeH = 2532, 5.1, 0.0\n",
    "coeffs, mu, radius = lf.ldc(teff, logg, FeH, grid, 'quadratic', plot=True)"
   ]
  },
  {
   "cell_type": "markdown",
   "metadata": {},
   "source": [
    "...or the entire grid!"
   ]
  },
  {
   "cell_type": "code",
   "execution_count": null,
   "metadata": {
    "collapsed": false
   },
   "outputs": [],
   "source": [
    "coeff_grid, mu_grid, radius_grid = lf.ldc_grid(grid, 'quadratic', write_to='', plot=True)"
   ]
  },
  {
   "cell_type": "markdown",
   "metadata": {},
   "source": [
    "Alternatively, the results can be written to a FITS file with COEFFS, MU, and RADII extensions by specifying a filepath with the `write_to` argument."
   ]
  },
  {
   "cell_type": "markdown",
   "metadata": {},
   "source": [
    "Enjoy!"
   ]
  }
 ],
 "metadata": {
  "anaconda-cloud": {},
  "kernelspec": {
   "display_name": "Astroconda",
   "language": "python",
   "name": "astroconda_kernel"
  },
  "language_info": {
   "codemirror_mode": {
    "name": "ipython",
    "version": 3
   },
   "file_extension": ".py",
   "mimetype": "text/x-python",
   "name": "python",
   "nbconvert_exporter": "python",
   "pygments_lexer": "ipython3",
   "version": "3.5.2"
  }
 },
 "nbformat": 4,
 "nbformat_minor": 1
}
