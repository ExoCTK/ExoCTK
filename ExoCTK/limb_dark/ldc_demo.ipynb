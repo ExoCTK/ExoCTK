{
 "cells": [
  {
   "cell_type": "code",
   "execution_count": 6,
   "metadata": {
    "collapsed": false
   },
   "outputs": [
    {
     "name": "stdout",
     "output_type": "stream",
     "text": [
      "The autoreload extension is already loaded. To reload it, use:\n",
      "  %reload_ext autoreload\n"
     ]
    }
   ],
   "source": [
    "%load_ext autoreload\n",
    "%autoreload 2\n",
    "%matplotlib inline"
   ]
  },
  {
   "cell_type": "markdown",
   "metadata": {},
   "source": [
    "# Calculate limb darkening coefficients"
   ]
  },
  {
   "cell_type": "markdown",
   "metadata": {},
   "source": [
    "First... some imports!"
   ]
  },
  {
   "cell_type": "code",
   "execution_count": 34,
   "metadata": {
    "collapsed": false
   },
   "outputs": [],
   "source": [
    "from ExoCTK.ExoCTK import core\n",
    "from ExoCTK.ExoCTK.limb_dark import ldcfit as lf\n",
    "from ExoCTK.ExoCTK.limb_dark import ldcplot as lp"
   ]
  },
  {
   "cell_type": "markdown",
   "metadata": {},
   "source": [
    "To calculate the limb darkening coefficients, we need a model grid. \n",
    "\n",
    "I'm going to use the Phoenix ACES models for this example but any grid can be loaded into a `core.ModelGrid()` object if the spectra are stored as FITS files.\n",
    "\n",
    "We will pass a directory+wildcard path to the initialize the model grid since the parameters are included in the filenames."
   ]
  },
  {
   "cell_type": "code",
   "execution_count": 27,
   "metadata": {
    "collapsed": false
   },
   "outputs": [
    {
     "name": "stdout",
     "output_type": "stream",
     "text": [
      " Teff  logg ...                          filename                         \n",
      "------ ---- ... ----------------------------------------------------------\n",
      "2300.0  4.0 ... lte02300-4.00+0.5.PHOENIX-ACES-AGSS-COND-SPECINT-2011.fits\n",
      "2300.0  4.0 ... lte02300-4.00-0.0.PHOENIX-ACES-AGSS-COND-SPECINT-2011.fits\n",
      "2300.0  4.0 ... lte02300-4.00-0.5.PHOENIX-ACES-AGSS-COND-SPECINT-2011.fits\n",
      "2300.0  4.5 ... lte02300-4.50+0.5.PHOENIX-ACES-AGSS-COND-SPECINT-2011.fits\n",
      "2300.0  4.5 ... lte02300-4.50-0.0.PHOENIX-ACES-AGSS-COND-SPECINT-2011.fits\n",
      "2300.0  4.5 ... lte02300-4.50-0.5.PHOENIX-ACES-AGSS-COND-SPECINT-2011.fits\n",
      "2300.0  5.0 ... lte02300-5.00+0.5.PHOENIX-ACES-AGSS-COND-SPECINT-2011.fits\n",
      "2300.0  5.0 ... lte02300-5.00-0.0.PHOENIX-ACES-AGSS-COND-SPECINT-2011.fits\n",
      "2300.0  5.0 ... lte02300-5.00-0.5.PHOENIX-ACES-AGSS-COND-SPECINT-2011.fits\n",
      "2300.0  5.5 ... lte02300-5.50+0.5.PHOENIX-ACES-AGSS-COND-SPECINT-2011.fits\n",
      "   ...  ... ...                                                        ...\n",
      "2800.0  4.5 ... lte02800-4.50+0.5.PHOENIX-ACES-AGSS-COND-SPECINT-2011.fits\n",
      "2800.0  4.5 ... lte02800-4.50-0.0.PHOENIX-ACES-AGSS-COND-SPECINT-2011.fits\n",
      "2800.0  4.5 ... lte02800-4.50-0.5.PHOENIX-ACES-AGSS-COND-SPECINT-2011.fits\n",
      "2800.0  5.0 ... lte02800-5.00+0.5.PHOENIX-ACES-AGSS-COND-SPECINT-2011.fits\n",
      "2800.0  5.0 ... lte02800-5.00-0.0.PHOENIX-ACES-AGSS-COND-SPECINT-2011.fits\n",
      "2800.0  5.0 ... lte02800-5.00-0.5.PHOENIX-ACES-AGSS-COND-SPECINT-2011.fits\n",
      "2800.0  5.5 ... lte02800-5.50+0.5.PHOENIX-ACES-AGSS-COND-SPECINT-2011.fits\n",
      "2800.0  5.5 ... lte02800-5.50-0.0.PHOENIX-ACES-AGSS-COND-SPECINT-2011.fits\n",
      "2800.0  5.5 ... lte02800-5.50-0.5.PHOENIX-ACES-AGSS-COND-SPECINT-2011.fits\n",
      "2800.0  6.0 ... lte02800-6.00+0.5.PHOENIX-ACES-AGSS-COND-SPECINT-2011.fits\n",
      "2800.0  6.0 ... lte02800-6.00-0.5.PHOENIX-ACES-AGSS-COND-SPECINT-2011.fits\n",
      "Length = 89 rows\n"
     ]
    }
   ],
   "source": [
    "fits_files = '../../../limb_dark_jeff/limb/specint/lte*.PHOENIX-ACES-AGSS-COND-SPECINT-2011.fits'\n",
    "grid = core.ModelGrid(fits_files)\n",
    "print(grid.data)"
   ]
  },
  {
   "cell_type": "markdown",
   "metadata": {},
   "source": [
    "Now let's customize it to our desired effective temperature, surface gravity, metallicity, and wavelength ranges by running the `customize()` method on our grid."
   ]
  },
  {
   "cell_type": "code",
   "execution_count": 36,
   "metadata": {
    "collapsed": false
   },
   "outputs": [
    {
     "name": "stdout",
     "output_type": "stream",
     "text": [
      "20/20 spectra in parameter range Teff: (2400, 2800) , logg: (4, 5.5) , FeH: (0, 0) , wavelength: (1.1, 1.6)\n",
      " Teff  logg ...                          filename                         \n",
      "------ ---- ... ----------------------------------------------------------\n",
      "2400.0  4.0 ... lte02400-4.00-0.0.PHOENIX-ACES-AGSS-COND-SPECINT-2011.fits\n",
      "2400.0  4.5 ... lte02400-4.50-0.0.PHOENIX-ACES-AGSS-COND-SPECINT-2011.fits\n",
      "2400.0  5.0 ... lte02400-5.00-0.0.PHOENIX-ACES-AGSS-COND-SPECINT-2011.fits\n",
      "2400.0  5.5 ... lte02400-5.50-0.0.PHOENIX-ACES-AGSS-COND-SPECINT-2011.fits\n",
      "2500.0  4.0 ... lte02500-4.00-0.0.PHOENIX-ACES-AGSS-COND-SPECINT-2011.fits\n",
      "2500.0  4.5 ... lte02500-4.50-0.0.PHOENIX-ACES-AGSS-COND-SPECINT-2011.fits\n",
      "2500.0  5.0 ... lte02500-5.00-0.0.PHOENIX-ACES-AGSS-COND-SPECINT-2011.fits\n",
      "2500.0  5.5 ... lte02500-5.50-0.0.PHOENIX-ACES-AGSS-COND-SPECINT-2011.fits\n",
      "2600.0  4.0 ... lte02600-4.00-0.0.PHOENIX-ACES-AGSS-COND-SPECINT-2011.fits\n",
      "2600.0  4.5 ... lte02600-4.50-0.0.PHOENIX-ACES-AGSS-COND-SPECINT-2011.fits\n",
      "2600.0  5.0 ... lte02600-5.00-0.0.PHOENIX-ACES-AGSS-COND-SPECINT-2011.fits\n",
      "2600.0  5.5 ... lte02600-5.50-0.0.PHOENIX-ACES-AGSS-COND-SPECINT-2011.fits\n",
      "2700.0  4.0 ... lte02700-4.00-0.0.PHOENIX-ACES-AGSS-COND-SPECINT-2011.fits\n",
      "2700.0  4.5 ... lte02700-4.50-0.0.PHOENIX-ACES-AGSS-COND-SPECINT-2011.fits\n",
      "2700.0  5.0 ... lte02700-5.00-0.0.PHOENIX-ACES-AGSS-COND-SPECINT-2011.fits\n",
      "2700.0  5.5 ... lte02700-5.50-0.0.PHOENIX-ACES-AGSS-COND-SPECINT-2011.fits\n",
      "2800.0  4.0 ... lte02800-4.00-0.0.PHOENIX-ACES-AGSS-COND-SPECINT-2011.fits\n",
      "2800.0  4.5 ... lte02800-4.50-0.0.PHOENIX-ACES-AGSS-COND-SPECINT-2011.fits\n",
      "2800.0  5.0 ... lte02800-5.00-0.0.PHOENIX-ACES-AGSS-COND-SPECINT-2011.fits\n",
      "2800.0  5.5 ... lte02800-5.50-0.0.PHOENIX-ACES-AGSS-COND-SPECINT-2011.fits\n"
     ]
    }
   ],
   "source": [
    "grid.customize(teff_range=(2400,2800), logg_range=(4,5.5), FeH_range=(0,0), wavelength_range=(1.1,1.6))"
   ]
  },
  {
   "cell_type": "markdown",
   "metadata": {},
   "source": [
    "Now we can caluclate the limb darkening coefficients of a single model on the grid..."
   ]
  },
  {
   "cell_type": "code",
   "execution_count": 30,
   "metadata": {
    "collapsed": true
   },
   "outputs": [],
   "source": [
    "teff, logg, FeH = 2500, 5.0, 0.0\n",
    "ldc_grid_point = lf.ldc(teff, logg, FeH, grid, 2)"
   ]
  },
  {
   "cell_type": "markdown",
   "metadata": {},
   "source": [
    "...or a single model off the grid..."
   ]
  },
  {
   "cell_type": "code",
   "execution_count": 31,
   "metadata": {
    "collapsed": false
   },
   "outputs": [
    {
     "name": "stdout",
     "output_type": "stream",
     "text": [
      "Teff: 2532  logg: 5.1  FeH: 0.0  model not in grid. Calculating...\n"
     ]
    },
    {
     "name": "stderr",
     "output_type": "stream",
     "text": [
      "/Users/jfilippazzo/miniconda3/envs/astroconda/lib/python3.5/site-packages/scipy/interpolate/interpolate.py:2405: RuntimeWarning: invalid value encountered in true_divide\n",
      "  (grid[i + 1] - grid[i]))\n"
     ]
    }
   ],
   "source": [
    "teff, logg, FeH = 2532, 5.1, 0.0\n",
    "ldc_off_grid_point = lf.ldc(teff, logg, FeH, grid, 2)"
   ]
  },
  {
   "cell_type": "markdown",
   "metadata": {},
   "source": [
    "...or the entire grid!"
   ]
  },
  {
   "cell_type": "code",
   "execution_count": 33,
   "metadata": {
    "collapsed": false
   },
   "outputs": [],
   "source": [
    "whole_grid = lf.ldc_grid(grid, 2)"
   ]
  },
  {
   "cell_type": "markdown",
   "metadata": {},
   "source": [
    "Enjoy!"
   ]
  }
 ],
 "metadata": {
  "anaconda-cloud": {},
  "kernelspec": {
   "display_name": "Astroconda",
   "language": "python",
   "name": "astroconda_kernel"
  },
  "language_info": {
   "codemirror_mode": {
    "name": "ipython",
    "version": 3
   },
   "file_extension": ".py",
   "mimetype": "text/x-python",
   "name": "python",
   "nbconvert_exporter": "python",
   "pygments_lexer": "ipython3",
   "version": "3.5.2"
  }
 },
 "nbformat": 4,
 "nbformat_minor": 1
}
